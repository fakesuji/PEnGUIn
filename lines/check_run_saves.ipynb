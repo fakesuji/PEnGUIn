{
 "cells": [
  {
   "cell_type": "code",
   "execution_count": 7,
   "id": "09a7a21e-e3d8-4210-9b7f-d352a62b0d10",
   "metadata": {},
   "outputs": [
    {
     "name": "stdout",
     "output_type": "stream",
     "text": [
      "Orbit frame does not exists: 3860\n",
      "Done!\n"
     ]
    }
   ],
   "source": [
    "\"\"\"\n",
    "Author:  Cory Padgett\n",
    "Advisor: Dr. Jeffrey Fung\n",
    "Email:   cpadge4@clemson.edu\n",
    "\"\"\"\n",
    "\n",
    "#imports\n",
    "import numpy as np\n",
    "import read_penguin as r\n",
    "\n",
    "\n",
    "#------------------------------------------------------------------------------\n",
    "#edit for file check starts here\n",
    "#------------------------------------------------------------------------------\n",
    "FRAME_START = 0              #initial frame to pull\n",
    "FRAME_END   = 9001           #final frame -1 to pull\n",
    "PATH        = \"/scratch/cpadge4/\"\n",
    "DIM         = '2D'    #\"2D\" or \"3D\"\n",
    "IMAX        = 1200    #x dir grid size\n",
    "JMAX        = 2160    #y dir grid size\n",
    "KMAX        = 0       #z dir grid size\n",
    "LABEL       = \"h35_2p636E_e35_a-20_b-20_OA_PPM4\"\n",
    "#binary_720x1128x24_h35_1p2J_a-20_b-20_OA_PPM4_01234 - example of full data file name\n",
    "#------------------------------------------------------------------------------\n",
    "#edit for file check ends here\n",
    "#------------------------------------------------------------------------------\n",
    "    \n",
    "\n",
    "#--------------------------------------------------------------------------------\n",
    "#check files --------------------------------------------------------------------\n",
    "#--------------------------------------------------------------------------------\n",
    "for k in range(FRAME_START, FRAME_END):\n",
    "    if DIM=='2D':\n",
    "        exist = r.check_file_exist_2D(PATH, IMAX, JMAX, LABEL, k)\n",
    "    \n",
    "    if DIM=='3D':\n",
    "        exist = r.check_file_exist_3D(PATH, IMAX, JMAX, KMAX, LABEL, k)\n",
    "    \n",
    "    if exist:\n",
    "        continue\n",
    "    else:\n",
    "        print(\"Orbit frame does not exists: \" +str(k))\n",
    "        break\n",
    "print(\"Done!\")"
   ]
  },
  {
   "cell_type": "code",
   "execution_count": null,
   "id": "16b0d2f3-4be8-426d-ab7d-3040ae73558e",
   "metadata": {},
   "outputs": [],
   "source": []
  }
 ],
 "metadata": {
  "kernelspec": {
   "display_name": "Python 3 (ipykernel)",
   "language": "python",
   "name": "python3"
  },
  "language_info": {
   "codemirror_mode": {
    "name": "ipython",
    "version": 3
   },
   "file_extension": ".py",
   "mimetype": "text/x-python",
   "name": "python",
   "nbconvert_exporter": "python",
   "pygments_lexer": "ipython3",
   "version": "3.9.12"
  }
 },
 "nbformat": 4,
 "nbformat_minor": 5
}
