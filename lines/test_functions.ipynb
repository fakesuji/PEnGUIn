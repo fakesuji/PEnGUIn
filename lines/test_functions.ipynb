{
 "cells": [
  {
   "cell_type": "code",
   "execution_count": 1,
   "id": "1bb4526d-f88a-40e2-bec2-d369ff786129",
   "metadata": {},
   "outputs": [],
   "source": [
    "\"\"\"\n",
    "Author:  Cory Padgett\n",
    "Advisor: Dr. Jeffrey Fung\n",
    "Email:   cpadge4@clemson.edu\n",
    "\"\"\"\n",
    "\n",
    "#imports\n",
    "import functions as f\n",
    "import numpy as np"
   ]
  },
  {
   "cell_type": "code",
   "execution_count": 2,
   "id": "c226b599-ff17-4409-8358-2e249c104612",
   "metadata": {},
   "outputs": [],
   "source": [
    "#dir creation, indexing frames, and setting run info\n",
    "#------------------------------------------------------------------------------\n",
    "#edit for run starts here\n",
    "#------------------------------------------------------------------------------\n",
    "RUN_NAME      = \"name\"\n",
    "ANALYSIS_NAME = \"name\"\n",
    "RUN_TYPE      = \"run_stationary\"  #\"run_stationary\" or \"run_rotate\"\n",
    "ORBIT_NUM     = 0                 #Used only in run_rotate run type\n",
    "FRAME_START   = 3000              #initial frame to pull\n",
    "FRAME_END     = 3001              #final frame -1 to pull\n",
    "DIM           = '2D'              #\"2D\" or \"3D\"\n",
    "IMAX          = 1200              #x dir grid size\n",
    "JMAX          = 2160              #y dir grid size\n",
    "kmax          = 0                 #z dir grid size\n",
    "LABEL = \"h35_2p636E_e30_a-20_b-20_OA_PPM4\"   #simulation label\n",
    "#------------------------------------------------------------------------------\n",
    "#edit for run ends here\n",
    "#------------------------------------------------------------------------------\n",
    "\n",
    "\n",
    "file_name = ['X Position', 'Y Position', 'Density', 'Pressure',\n",
    "            'X Velocity' ,'Y Velocity', 'Temperatures', 'Multi Plot',\n",
    "            'Proj-Pol Velocity', 'Polar Density', 'Line Density',\n",
    "            'Col Dens', 'Optical Depth']\n",
    "LABEL = \"h35_2p636E_e30_a-20_b-20_OA_PPM4\""
   ]
  },
  {
   "cell_type": "code",
   "execution_count": 10,
   "id": "bfde8fec-92d6-49a5-9611-eea0740aa4e0",
   "metadata": {},
   "outputs": [
    {
     "name": "stdout",
     "output_type": "stream",
     "text": [
      "Dir exists!\n",
      "Spectrum Data Loaded\n",
      "Time: 1251.89 and Orbit # 3000\n",
      "Done!\n"
     ]
    }
   ],
   "source": [
    "f.dir_check(RUN_NAME, ANALYSIS_NAME, file_name, DIM)\n",
    "vel_j, ein_j, eng_j, g1j, g0j, temp, part = f.load_spec_data()\n",
    "\n",
    "\n",
    "for k in range(FRAME_START,FRAME_END):\n",
    "    grids, lengths, data = f.load_PEnGUIn_2d(LABEL, IMAX, JMAX, k)\n",
    "    radius, theta = grids\n",
    "    x_len, y_len  = lengths\n",
    "    time, pressure, density, temp, r_vel, t_vel = data\n",
    "\n",
    "    #computational constants\n",
    "    frame = k - FRAME_START\n",
    "    roll_num = 12 * frame     #number to roll array's by for frame num\n",
    "\n",
    "    radius_1 = np.ones((y_len-1,)) * f.INNER\n",
    "    radius_2 = np.ones((y_len-1,)) * f.OUTER\n",
    "\n",
    "    #----------------------------------------------------------------------------------------------\n",
    "    #Line Desnsity Calculation\n",
    "    #----------------------------------------------------------------------------------------------\n",
    "    p_temp  = f.T0 * (radius/f.R_IN)**f.ALPHA\n",
    "    p_dens  = f.N0 * (radius/f.R_IN)**f.BETA\n",
    "\n",
    "    if RUN_TYPE==\"run_rotate\":\n",
    "        temp  = np.roll(temp,  roll_num, axis=0)\n",
    "        density = np.roll(density, roll_num, axis=0)\n",
    "\n",
    "    vzp       = f.incvel_2D(r_vel, t_vel, theta, RUN_TYPE, roll_num)\n",
    "    part_func = f.part_func_1D(temp, part, y_len)\n",
    "    flux_dens, optical_t = f.flux_cal(p_dens, vel_j, ein_j, eng_j, g1j, g0j, temp, part_func)\n",
    "    int_j     = f.int_j_cal(flux_dens, radius, f.k_vel, vzp)\n",
    "\n",
    "    print(\"Done!\")"
   ]
  },
  {
   "cell_type": "code",
   "execution_count": 11,
   "id": "69e8b0ac-971c-4a2a-8c59-75b363aa02eb",
   "metadata": {
    "scrolled": true,
    "tags": []
   },
   "outputs": [],
   "source": [
    "import functions_plots as fp\n",
    "\n",
    "parameters = RUN_TYPE, RUN_NAME, ANALYSIS_NAME, time, k, frame, ORBIT_NUM\n",
    "varibles   = f.k_vel, int_j, radius, theta, density, vzp, radius_1, radius_2, f.R_IN\n",
    "fp.plot_line_obs_dens_vzp(parameters, varibles)\n",
    "\n",
    "varibles    = f.k_vel, radius, theta, density, int_j, radius_1, radius_2\n",
    "fp.plot_line_dens(parameters, varibles)"
   ]
  },
  {
   "cell_type": "code",
   "execution_count": 12,
   "id": "0294c1d5-4793-4613-a91b-4bb57ee81d1a",
   "metadata": {
    "scrolled": true,
    "tags": []
   },
   "outputs": [],
   "source": [
    "fp.plot_pol_vzp(parameters, radius, theta, radius_1, radius_2, vzp)\n",
    "fp.plot_pol_temp(parameters, radius, theta, radius_1, radius_2, temp)\n",
    "fp.plot_pol_dens(parameters, radius, theta, radius_1, radius_2, density)"
   ]
  },
  {
   "cell_type": "code",
   "execution_count": 13,
   "id": "81a3dde1-aae7-4263-a09d-f5e3d1c5bef7",
   "metadata": {
    "scrolled": true,
    "tags": []
   },
   "outputs": [],
   "source": [
    "vel_type = \"X Velocity\"\n",
    "fp.plot_vel(parameters, radius, theta, r_vel, vel_type)\n",
    "vel_type = \"Y Velocity\"\n",
    "fp.plot_vel(parameters, radius, theta, t_vel, vel_type)"
   ]
  },
  {
   "cell_type": "code",
   "execution_count": 7,
   "id": "d3d25fa8-2423-4f09-bea4-dac8289175b2",
   "metadata": {
    "scrolled": true,
    "tags": []
   },
   "outputs": [],
   "source": [
    "fp.plot_line(parameters, f.k_vel, int_j)\n",
    "fp.plot_line_obs(parameters, f.k_vel, int_j)\n",
    "\n",
    "varibles = radius[0,:], density, temp, part_func\n",
    "params2  = vel_j, ein_j, eng_j, g1j, g0j\n",
    "fp.plot_col_dens(parameters, varibles, params2)"
   ]
  },
  {
   "cell_type": "code",
   "execution_count": 8,
   "id": "0d7f3286-c2e3-4470-8d4c-ebbff1aec4ab",
   "metadata": {
    "scrolled": true,
    "tags": []
   },
   "outputs": [],
   "source": [
    "varibles = radius[0,:], optical_t[0,:,:]\n",
    "fp.plot_opt_depth(parameters, varibles)\n",
    "\n",
    "varibles = radius, optical_t\n",
    "fp.plot_opt_depth_all(parameters, varibles)"
   ]
  },
  {
   "cell_type": "code",
   "execution_count": 9,
   "id": "1254d72a-2d4e-4351-b055-76337ced59e5",
   "metadata": {},
   "outputs": [],
   "source": [
    "vel = np.sqrt(r_vel**2 + t_vel**2)\n",
    "fp.plot_vel(parameters, radius, theta, vel, vel_type)"
   ]
  },
  {
   "cell_type": "code",
   "execution_count": null,
   "id": "1bfc60dc-d9d5-48e6-af47-6ffba25b9148",
   "metadata": {},
   "outputs": [],
   "source": []
  }
 ],
 "metadata": {
  "kernelspec": {
   "display_name": "Python 3 (ipykernel)",
   "language": "python",
   "name": "python3"
  },
  "language_info": {
   "codemirror_mode": {
    "name": "ipython",
    "version": 3
   },
   "file_extension": ".py",
   "mimetype": "text/x-python",
   "name": "python",
   "nbconvert_exporter": "python",
   "pygments_lexer": "ipython3",
   "version": "3.9.12"
  }
 },
 "nbformat": 4,
 "nbformat_minor": 5
}
