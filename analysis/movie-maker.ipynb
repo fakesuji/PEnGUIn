{
 "cells": [
  {
   "cell_type": "code",
   "execution_count": 1,
   "id": "9ae4369e-0fd3-43b8-9fbb-5f802d94cfb2",
   "metadata": {},
   "outputs": [
    {
     "name": "stdout",
     "output_type": "stream",
     "text": [
      "Defaulting to user installation because normal site-packages is not writeable\n",
      "Requirement already satisfied: opencv-python in /home/cpadge4/.local/lib/python3.9/site-packages (4.8.1.78)\n",
      "Requirement already satisfied: numpy>=1.19.3 in /home/cpadge4/.local/lib/python3.9/site-packages (from opencv-python) (1.26.1)\n",
      "Note: you may need to restart the kernel to use updated packages.\n"
     ]
    }
   ],
   "source": [
    "pip install opencv-python"
   ]
  },
  {
   "cell_type": "code",
   "execution_count": 11,
   "id": "ecd8a95d-d173-46d0-ac01-3895f22b62c0",
   "metadata": {},
   "outputs": [
    {
     "name": "stdout",
     "output_type": "stream",
     "text": [
      "Dir analysis exists!\n",
      "Dir made!\n",
      "0/6 complete....\n",
      "1/6 complete....\n",
      "2/6 complete....\n",
      "3/6 complete....\n",
      "4/6 complete....\n",
      "5/6 complete....\n",
      "Movies made!\n"
     ]
    }
   ],
   "source": [
    "import functions as f\n",
    "import numpy as np\n",
    "import os\n",
    "import cv2\n",
    "\n",
    "#------------------------------------------------------------------------------\n",
    "#edit for movie creation starts here\n",
    "#------------------------------------------------------------------------------\n",
    "DIR_NAME  = ['Multi Plot', 'Multi Plot', 'Polar Density', 'Polar Density', 'X Velocity', 'Y Velocity']\n",
    "FILE_NAME = ['dens_ecc_ang_', 'dens_ecc_ang_full_', 'pol_dens_', 'pol_dens_full_', 'x_vel_', 'y_vel_']\n",
    "\n",
    "\n",
    "RUN_NAME      = \"h50_2p623E_e80_a-10\"\n",
    "ANALYSIS_NAME = str(f.T0)+\"_\"+str(f.ALPHA)+\"_\"+str(f.N0)+\"_\"+str(f.BETA)\n",
    "FRAME_START   = 0       #initial frame to pull\n",
    "FRAME_END     = 301    #large test number, actual end found in f.check_plots\n",
    "MOVIE_FPS     = 3      #movie frame rate per second\n",
    "#------------------------------------------------------------------------------\n",
    "#edit for movie creation ends here\n",
    "#------------------------------------------------------------------------------\n",
    "\n",
    "path     = RUN_NAME+\"/\"+ANALYSIS_NAME\n",
    "NEW_DIR  = \"Movies\"\n",
    "file     = []   #place holder for f.dir_check - otherwise makes more dir\n",
    "f.dir_check(path, NEW_DIR, file)\n",
    "f.check_plots(path, DIR_NAME[0], FILE_NAME[0], FRAME_START, FRAME_END)\n",
    "\n",
    "for j in range(len(DIR_NAME)):\n",
    "    print(str(j) + \"/\" + str(len(DIR_NAME)) + \" complete....\")\n",
    "    img_array = []\n",
    "    for i in range(FRAME_START, FRAME_END):\n",
    "        #for k in range(0,180):\n",
    "        filename = \"Plots/\"+ path + \"/\" + DIR_NAME[j] + \"/\" + FILE_NAME[j] + str(i*f.orbit_interval) + '.png'\n",
    "        img = cv2.imread(filename)\n",
    "        height, width, layers = img.shape\n",
    "        size = (width,height)\n",
    "        img_array.append(img)\n",
    "\n",
    "    out = cv2.VideoWriter(\"Plots/\"+ path + \"/Movies/\" + FILE_NAME[j] + RUN_NAME + \".avi\",cv2.VideoWriter_fourcc(*'DIVX'), MOVIE_FPS, size)\n",
    "\n",
    "    for i in range(len(img_array)):\n",
    "        out.write(img_array[i])\n",
    "    out.release()\n",
    "\n",
    "print(\"Movies made!\")"
   ]
  },
  {
   "cell_type": "markdown",
   "id": "7003d2aa-1548-49aa-bf3d-ba02585e55d5",
   "metadata": {},
   "source": []
  }
 ],
 "metadata": {
  "kernelspec": {
   "display_name": "Python 3 (ipykernel)",
   "language": "python",
   "name": "python3"
  },
  "language_info": {
   "codemirror_mode": {
    "name": "ipython",
    "version": 3
   },
   "file_extension": ".py",
   "mimetype": "text/x-python",
   "name": "python",
   "nbconvert_exporter": "python",
   "pygments_lexer": "ipython3",
   "version": "3.9.12"
  }
 },
 "nbformat": 4,
 "nbformat_minor": 5
}
