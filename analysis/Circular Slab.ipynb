{
 "cells": [
  {
   "cell_type": "code",
   "execution_count": 1,
   "id": "f8576dc1-166b-4fd5-ac16-fc21aea388f6",
   "metadata": {},
   "outputs": [],
   "source": [
    "\"\"\"\n",
    "Author:  Cory Padgett\n",
    "Advisor: Dr. Jeffrey Fung\n",
    "Email:   cpadge4@clemson.edu\n",
    "\"\"\"\n",
    "\n",
    "#imports\n",
    "import functions as f\n",
    "import numpy as np\n",
    "import functions_plots as fp"
   ]
  },
  {
   "cell_type": "code",
   "execution_count": 2,
   "id": "e3510274-30f7-468d-a70c-c6f6498d8a9c",
   "metadata": {},
   "outputs": [
    {
     "name": "stdout",
     "output_type": "stream",
     "text": [
      "Dir exists!\n"
     ]
    }
   ],
   "source": [
    "#dir creation, indexing frames, and setting run info\n",
    "#------------------------------------------------------------------------------\n",
    "#edit for run starts here\n",
    "#------------------------------------------------------------------------------\n",
    "RUN_NAME      = \"circular_slab\"\n",
    "ANALYSIS_NAME = str(f.T0)+\"_\"+str(f.ALPHA)+\"_\"+str(f.N0)+\"_\"+str(f.BETA)\n",
    "RUN_TYPE      = \"run_stationary\"  #\"run_stationary\" or \"run_rotate\"\n",
    "DIM           = \"2D\"\n",
    "time, k, frame, ORBIT_NUM = 0, 0, 0, 0\n",
    "#------------------------------------------------------------------------------\n",
    "#edit for run ends here\n",
    "#------------------------------------------------------------------------------\n",
    "\n",
    "\n",
    "file_name = ['X Position', 'Y Position', 'Density', 'Pressure',\n",
    "            'X Velocity' ,'Y Velocity', 'Temperatures', 'Multi Plot',\n",
    "            'Proj-Pol Velocity', 'Polar Density', 'Line Density',\n",
    "            'Col Dens', 'Optical Depth', 'Pericenter']\n",
    "\n",
    "\n",
    "f.dir_check(RUN_NAME, ANALYSIS_NAME, file_name, DIM)"
   ]
  },
  {
   "cell_type": "code",
   "execution_count": 3,
   "id": "1178bc37-02e6-425f-9e51-0564e9109c05",
   "metadata": {},
   "outputs": [
    {
     "name": "stdout",
     "output_type": "stream",
     "text": [
      "Spectrum Data Loaded\n"
     ]
    }
   ],
   "source": [
    "#load spectrum data\n",
    "vel_j, ein_j, eng_j, g1j, g0j, temp, part = f.load_spec_data()\n",
    "\n",
    "#load circular slab model\n",
    "grids, lengths, data = f.load_circular_2d()\n",
    "radius, theta = grids\n",
    "x_len, y_len  = lengths\n",
    "density, temp, vel = data\n",
    "\n",
    "radius_1 = np.ones((y_len-1,)) * f.INNER\n",
    "radius_2 = np.ones((y_len-1,)) * f.OUTER"
   ]
  },
  {
   "cell_type": "code",
   "execution_count": 4,
   "id": "d85f0428-66ee-45ef-9104-9a89f3f3bde3",
   "metadata": {},
   "outputs": [
    {
     "name": "stdout",
     "output_type": "stream",
     "text": [
      "Calculations Done!\n"
     ]
    }
   ],
   "source": [
    "#----------------------------------------------------------------------------------------------\n",
    "#Line Desnsity Calculation\n",
    "#----------------------------------------------------------------------------------------------\n",
    "part_func = f.part_func_1D(temp, part, y_len)\n",
    "flux_dens, optical_t = f.flux_cal(density, vel_j, ein_j, eng_j, g1j, g0j, temp, part_func)\n",
    "int_j     = f.int_j_cal(flux_dens, radius, f.k_vel, vel)\n",
    "print(\"Calculations Done!\")"
   ]
  },
  {
   "cell_type": "code",
   "execution_count": 5,
   "id": "c9930515-6c87-4dac-95e1-4d9c2ce6983a",
   "metadata": {},
   "outputs": [
    {
     "name": "stdout",
     "output_type": "stream",
     "text": [
      "Plotting Done!\n"
     ]
    }
   ],
   "source": [
    "#----------------------------------------------------------------------------------------------\n",
    "#Plotting\n",
    "#----------------------------------------------------------------------------------------------\n",
    "parameters = RUN_TYPE, RUN_NAME, ANALYSIS_NAME, time, k, frame, ORBIT_NUM\n",
    "varibles    = f.k_vel, radius, theta, density, int_j, radius_1, radius_2\n",
    "fp.plot_line_obs_dens(parameters, varibles)\n",
    "fp.plot_line_obs(parameters, f.k_vel, int_j)\n",
    "\n",
    "fp.plot_pol_vzp(parameters, radius, theta, radius_1, radius_2, vel)\n",
    "fp.plot_pol_dens(parameters, radius, theta, radius_1, radius_2, density)\n",
    "print(\"Plotting Done!\")"
   ]
  },
  {
   "cell_type": "code",
   "execution_count": null,
   "id": "24fcff5c-e2d5-47c5-bd2b-29624dab6db0",
   "metadata": {},
   "outputs": [],
   "source": []
  }
 ],
 "metadata": {
  "kernelspec": {
   "display_name": "Python 3 (ipykernel)",
   "language": "python",
   "name": "python3"
  },
  "language_info": {
   "codemirror_mode": {
    "name": "ipython",
    "version": 3
   },
   "file_extension": ".py",
   "mimetype": "text/x-python",
   "name": "python",
   "nbconvert_exporter": "python",
   "pygments_lexer": "ipython3",
   "version": "3.9.12"
  }
 },
 "nbformat": 4,
 "nbformat_minor": 5
}
